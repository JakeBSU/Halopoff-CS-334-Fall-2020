{
 "cells": [
  {
   "cell_type": "code",
   "execution_count": 1,
   "metadata": {},
   "outputs": [],
   "source": [
    "%matplotlib inline\n",
    "import numpy as np\n",
    "import matplotlib.pyplot as plt\n",
    "import pandas as pd\n",
    "import sklearn\n",
    "from sklearn.datasets import make_classification\n",
    "from sklearn.linear_model import LinearRegression\n",
    "import seaborn as sns"
   ]
  },
  {
   "cell_type": "code",
   "execution_count": 2,
   "metadata": {},
   "outputs": [],
   "source": [
    "data = {\n",
    "        'GPA': [3.0, 3.7, 3.3, 2.5, 4.0, 3.2, 3.9, 3.0], \n",
    "        'Hours Studied': [2, 8, 3, 1, 12, 7, 9, 5]\n",
    "        }\n",
    "        \n",
    "df = pd.DataFrame(data, columns = ['GPA', 'Hours Studied'])"
   ]
  },
  {
   "cell_type": "code",
   "execution_count": 3,
   "metadata": {
    "scrolled": false
   },
   "outputs": [
    {
     "name": "stdout",
     "output_type": "stream",
     "text": [
      "(8, 2)\n"
     ]
    },
    {
     "data": {
      "text/html": [
       "<div>\n",
       "<style scoped>\n",
       "    .dataframe tbody tr th:only-of-type {\n",
       "        vertical-align: middle;\n",
       "    }\n",
       "\n",
       "    .dataframe tbody tr th {\n",
       "        vertical-align: top;\n",
       "    }\n",
       "\n",
       "    .dataframe thead th {\n",
       "        text-align: right;\n",
       "    }\n",
       "</style>\n",
       "<table border=\"1\" class=\"dataframe\">\n",
       "  <thead>\n",
       "    <tr style=\"text-align: right;\">\n",
       "      <th></th>\n",
       "      <th>GPA</th>\n",
       "      <th>Hours Studied</th>\n",
       "    </tr>\n",
       "  </thead>\n",
       "  <tbody>\n",
       "    <tr>\n",
       "      <th>0</th>\n",
       "      <td>3.0</td>\n",
       "      <td>2</td>\n",
       "    </tr>\n",
       "    <tr>\n",
       "      <th>1</th>\n",
       "      <td>3.7</td>\n",
       "      <td>8</td>\n",
       "    </tr>\n",
       "    <tr>\n",
       "      <th>2</th>\n",
       "      <td>3.3</td>\n",
       "      <td>3</td>\n",
       "    </tr>\n",
       "    <tr>\n",
       "      <th>3</th>\n",
       "      <td>2.5</td>\n",
       "      <td>1</td>\n",
       "    </tr>\n",
       "    <tr>\n",
       "      <th>4</th>\n",
       "      <td>4.0</td>\n",
       "      <td>12</td>\n",
       "    </tr>\n",
       "  </tbody>\n",
       "</table>\n",
       "</div>"
      ],
      "text/plain": [
       "   GPA  Hours Studied\n",
       "0  3.0              2\n",
       "1  3.7              8\n",
       "2  3.3              3\n",
       "3  2.5              1\n",
       "4  4.0             12"
      ]
     },
     "execution_count": 3,
     "metadata": {},
     "output_type": "execute_result"
    }
   ],
   "source": [
    "print(df.shape)\n",
    "df.head()"
   ]
  },
  {
   "cell_type": "code",
   "execution_count": 4,
   "metadata": {},
   "outputs": [
    {
     "data": {
      "image/png": "[encoded data removed]",
      "text/plain": [
       "<Figure size 432x288 with 1 Axes>"
      ]
     },
     "metadata": {
      "needs_background": "light"
     },
     "output_type": "display_data"
    }
   ],
   "source": [
    "# Using the matplotlib library\n",
    "plotX = df['Hours Studied'].values\n",
    "plotY = df['GPA'].values\n",
    "\n",
    "# Plot the data point\n",
    "plt.scatter(plotX, plotY, color='#ff0000', label='Data Point')\n",
    "\n",
    "# axis labels\n",
    "plt.xlabel('Hours Studied')\n",
    "plt.ylabel('GPA')\n",
    "\n",
    "plt.legend()\n",
    "plt.show()"
   ]
  },
  {
   "cell_type": "code",
   "execution_count": 5,
   "metadata": {},
   "outputs": [
    {
     "name": "stdout",
     "output_type": "stream",
     "text": [
      "Coefficient of Determination (R^2): 0.8073802457380754\n",
      "slope: [[0.12118959]]\n",
      "intercept: [2.61301115]\n",
      "prediction:\n",
      "[[2.85539033]\n",
      " [3.58252788]\n",
      " [2.97657993]\n",
      " [2.73420074]\n",
      " [4.06728625]\n",
      " [3.46133829]\n",
      " [3.70371747]\n",
      " [3.21895911]]\n"
     ]
    }
   ],
   "source": [
    "X = df['Hours Studied'].values.reshape(-1,1)\n",
    "y = df['GPA'].values.reshape(-1,1)\n",
    "reg = LinearRegression().fit(X, y)\n",
    "r_sqrd = reg.score(X, y)\n",
    "print('Coefficient of Determination (R^2):', r_sqrd)\n",
    "print('slope:', reg.coef_)\n",
    "print('intercept:',reg.intercept_)\n",
    "dataYpredict = reg.predict(X)\n",
    "print('prediction:', dataYpredict, sep='\\n')"
   ]
  },
  {
   "cell_type": "code",
   "execution_count": 6,
   "metadata": {},
   "outputs": [
    {
     "data": {
      "image/png": "[encoded data removed]",
      "text/plain": [
       "<Figure size 432x288 with 1 Axes>"
      ]
     },
     "metadata": {
      "needs_background": "light"
     },
     "output_type": "display_data"
    }
   ],
   "source": [
    "#plot the data point\n",
    "plt.scatter(plotX, plotY, color='#ff0000', label='Data Point')\n",
    "\n",
    "#plotting line \n",
    "plt.plot(X, dataYpredict, color='#777777', label='Linear Regression')\n",
    "\n",
    "# x-axis label\n",
    "plt.xlabel('Hours Studied')\n",
    "\n",
    "#y-axis label\n",
    "plt.ylabel('GPA')\n",
    "\n",
    "plt.legend()\n",
    "plt.show()\n"
   ]
  }
 ],
 "metadata": {
  "kernelspec": {
   "display_name": "Python 3",
   "language": "python",
   "name": "python3"
  },
  "language_info": {
   "codemirror_mode": {
    "name": "ipython",
    "version": 3
   },
   "file_extension": ".py",
   "mimetype": "text/x-python",
   "name": "python",
   "nbconvert_exporter": "python",
   "pygments_lexer": "ipython3",
   "version": "3.8.5"
  }
 },
 "nbformat": 4,
 "nbformat_minor": 4
}
