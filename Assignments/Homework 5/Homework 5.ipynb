{
 "cells": [
  {
   "cell_type": "markdown",
   "metadata": {},
   "source": [
    "#Homework 5#\n",
    "\n",
    "First, I had to aquire a completely new dataset, as my old one I suspect was actually a different 'Boise' (perhaps the city in Washington?) as it had much more rain than I would expect. My new dataset had a base accuracy of around 83%. I was able to raise this to 89% immediatley just by adding a second year of data to the dataset (\"boise2.csv\"). I also dropped some of the more redundant columns in my table that I don't think were contributing much to the dataset (maxTempC wasn't important, visibility was too similar to cloudcover, tempC was redundant). This brought up the accuracy by about a percent. "
   ]
  },
  {
   "cell_type": "code",
   "execution_count": 1,
   "metadata": {
    "scrolled": true
   },
   "outputs": [
    {
     "name": "stdout",
     "output_type": "stream",
     "text": [
      "['boise.csv', 'boise2.csv']\n"
     ]
    }
   ],
   "source": [
    "import numpy as np\n",
    "import pandas as pd\n",
    "import matplotlib.pyplot as plt\n",
    "from sklearn.datasets import make_classification\n",
    "import seaborn as sns\n",
    "import requests\n",
    "from wwo_hist import retrieve_hist_data\n",
    "\n",
    "import os\n",
    "print(os.listdir(\"C:/input\"))\n",
    "os.chdir(\"C:/input\")\n"
   ]
  },
  {
   "cell_type": "code",
   "execution_count": 2,
   "metadata": {
    "scrolled": true
   },
   "outputs": [
    {
     "data": {
      "text/html": [
       "<div>\n",
       "<style scoped>\n",
       "    .dataframe tbody tr th:only-of-type {\n",
       "        vertical-align: middle;\n",
       "    }\n",
       "\n",
       "    .dataframe tbody tr th {\n",
       "        vertical-align: top;\n",
       "    }\n",
       "\n",
       "    .dataframe thead th {\n",
       "        text-align: right;\n",
       "    }\n",
       "</style>\n",
       "<table border=\"1\" class=\"dataframe\">\n",
       "  <thead>\n",
       "    <tr style=\"text-align: right;\">\n",
       "      <th></th>\n",
       "      <th>date_time</th>\n",
       "      <th>maxtempC</th>\n",
       "      <th>mintempC</th>\n",
       "      <th>totalSnow_cm</th>\n",
       "      <th>sunHour</th>\n",
       "      <th>uvIndex</th>\n",
       "      <th>moon_illumination</th>\n",
       "      <th>moonrise</th>\n",
       "      <th>moonset</th>\n",
       "      <th>sunrise</th>\n",
       "      <th>...</th>\n",
       "      <th>cloudcover</th>\n",
       "      <th>humidity</th>\n",
       "      <th>precipMM</th>\n",
       "      <th>pressure</th>\n",
       "      <th>tempC</th>\n",
       "      <th>visibility</th>\n",
       "      <th>winddirDegree</th>\n",
       "      <th>windspeedKmph</th>\n",
       "      <th>location</th>\n",
       "      <th>label</th>\n",
       "    </tr>\n",
       "  </thead>\n",
       "  <tbody>\n",
       "    <tr>\n",
       "      <th>153</th>\n",
       "      <td>6/3/2018</td>\n",
       "      <td>30</td>\n",
       "      <td>15</td>\n",
       "      <td>0.0</td>\n",
       "      <td>14.5</td>\n",
       "      <td>6</td>\n",
       "      <td>59</td>\n",
       "      <td>12:41 AM</td>\n",
       "      <td>10:29 AM</td>\n",
       "      <td>6:05 AM</td>\n",
       "      <td>...</td>\n",
       "      <td>5</td>\n",
       "      <td>31</td>\n",
       "      <td>0.0</td>\n",
       "      <td>1014</td>\n",
       "      <td>30</td>\n",
       "      <td>10</td>\n",
       "      <td>124</td>\n",
       "      <td>11</td>\n",
       "      <td>83706</td>\n",
       "      <td>0</td>\n",
       "    </tr>\n",
       "    <tr>\n",
       "      <th>633</th>\n",
       "      <td>9/26/2019</td>\n",
       "      <td>25</td>\n",
       "      <td>11</td>\n",
       "      <td>0.0</td>\n",
       "      <td>11.6</td>\n",
       "      <td>5</td>\n",
       "      <td>2</td>\n",
       "      <td>4:41 AM</td>\n",
       "      <td>6:57 PM</td>\n",
       "      <td>7:37 AM</td>\n",
       "      <td>...</td>\n",
       "      <td>7</td>\n",
       "      <td>32</td>\n",
       "      <td>0.0</td>\n",
       "      <td>1011</td>\n",
       "      <td>25</td>\n",
       "      <td>10</td>\n",
       "      <td>235</td>\n",
       "      <td>9</td>\n",
       "      <td>83706</td>\n",
       "      <td>0</td>\n",
       "    </tr>\n",
       "    <tr>\n",
       "      <th>73</th>\n",
       "      <td>3/15/2018</td>\n",
       "      <td>7</td>\n",
       "      <td>2</td>\n",
       "      <td>0.0</td>\n",
       "      <td>10.2</td>\n",
       "      <td>2</td>\n",
       "      <td>2</td>\n",
       "      <td>7:18 AM</td>\n",
       "      <td>6:07 PM</td>\n",
       "      <td>7:57 AM</td>\n",
       "      <td>...</td>\n",
       "      <td>41</td>\n",
       "      <td>70</td>\n",
       "      <td>0.4</td>\n",
       "      <td>1009</td>\n",
       "      <td>7</td>\n",
       "      <td>10</td>\n",
       "      <td>290</td>\n",
       "      <td>8</td>\n",
       "      <td>83706</td>\n",
       "      <td>0</td>\n",
       "    </tr>\n",
       "    <tr>\n",
       "      <th>666</th>\n",
       "      <td>10/29/2019</td>\n",
       "      <td>1</td>\n",
       "      <td>-5</td>\n",
       "      <td>0.1</td>\n",
       "      <td>8.4</td>\n",
       "      <td>1</td>\n",
       "      <td>1</td>\n",
       "      <td>9:58 AM</td>\n",
       "      <td>8:05 PM</td>\n",
       "      <td>8:16 AM</td>\n",
       "      <td>...</td>\n",
       "      <td>24</td>\n",
       "      <td>41</td>\n",
       "      <td>0.2</td>\n",
       "      <td>1028</td>\n",
       "      <td>1</td>\n",
       "      <td>10</td>\n",
       "      <td>186</td>\n",
       "      <td>12</td>\n",
       "      <td>83706</td>\n",
       "      <td>0</td>\n",
       "    </tr>\n",
       "    <tr>\n",
       "      <th>217</th>\n",
       "      <td>8/6/2018</td>\n",
       "      <td>31</td>\n",
       "      <td>17</td>\n",
       "      <td>0.0</td>\n",
       "      <td>14.5</td>\n",
       "      <td>6</td>\n",
       "      <td>28</td>\n",
       "      <td>1:52 AM</td>\n",
       "      <td>4:40 PM</td>\n",
       "      <td>6:39 AM</td>\n",
       "      <td>...</td>\n",
       "      <td>1</td>\n",
       "      <td>24</td>\n",
       "      <td>0.0</td>\n",
       "      <td>1017</td>\n",
       "      <td>31</td>\n",
       "      <td>10</td>\n",
       "      <td>212</td>\n",
       "      <td>7</td>\n",
       "      <td>83706</td>\n",
       "      <td>0</td>\n",
       "    </tr>\n",
       "  </tbody>\n",
       "</table>\n",
       "<p>5 rows × 26 columns</p>\n",
       "</div>"
      ],
      "text/plain": [
       "      date_time  maxtempC  mintempC  totalSnow_cm  sunHour  uvIndex  \\\n",
       "153    6/3/2018        30        15           0.0     14.5        6   \n",
       "633   9/26/2019        25        11           0.0     11.6        5   \n",
       "73    3/15/2018         7         2           0.0     10.2        2   \n",
       "666  10/29/2019         1        -5           0.1      8.4        1   \n",
       "217    8/6/2018        31        17           0.0     14.5        6   \n",
       "\n",
       "     moon_illumination  moonrise   moonset  sunrise  ... cloudcover  humidity  \\\n",
       "153                 59  12:41 AM  10:29 AM  6:05 AM  ...          5        31   \n",
       "633                  2   4:41 AM   6:57 PM  7:37 AM  ...          7        32   \n",
       "73                   2   7:18 AM   6:07 PM  7:57 AM  ...         41        70   \n",
       "666                  1   9:58 AM   8:05 PM  8:16 AM  ...         24        41   \n",
       "217                 28   1:52 AM   4:40 PM  6:39 AM  ...          1        24   \n",
       "\n",
       "     precipMM  pressure  tempC  visibility  winddirDegree  windspeedKmph  \\\n",
       "153       0.0      1014     30          10            124             11   \n",
       "633       0.0      1011     25          10            235              9   \n",
       "73        0.4      1009      7          10            290              8   \n",
       "666       0.2      1028      1          10            186             12   \n",
       "217       0.0      1017     31          10            212              7   \n",
       "\n",
       "     location  label  \n",
       "153     83706      0  \n",
       "633     83706      0  \n",
       "73      83706      0  \n",
       "666     83706      0  \n",
       "217     83706      0  \n",
       "\n",
       "[5 rows x 26 columns]"
      ]
     },
     "execution_count": 2,
     "metadata": {},
     "output_type": "execute_result"
    }
   ],
   "source": [
    "#direct filepath to .csv will have to be edited to wherever .csv is on disk\n",
    "rainData = pd.read_csv('C:/input/boise.csv')\n",
    "rainData.sample(5)"
   ]
  },
  {
   "cell_type": "code",
   "execution_count": 3,
   "metadata": {},
   "outputs": [
    {
     "data": {
      "image/png": "[encoded data removed]",
      "text/plain": [
       "<Figure size 432x288 with 1 Axes>"
      ]
     },
     "metadata": {
      "needs_background": "light"
     },
     "output_type": "display_data"
    }
   ],
   "source": [
    "ax = sns.countplot(x=\"label\", data=rainData)"
   ]
  },
  {
   "cell_type": "code",
   "execution_count": 4,
   "metadata": {},
   "outputs": [],
   "source": [
    "feature_cols = ['mintempC', 'cloudcover', 'humidity','pressure']\n",
    "X = rainData[feature_cols] # Features\n",
    "y = rainData.label # Target variable"
   ]
  },
  {
   "cell_type": "code",
   "execution_count": 5,
   "metadata": {},
   "outputs": [],
   "source": [
    "from sklearn.model_selection import train_test_split\n",
    "X_train,X_test,y_train,y_test=train_test_split(X, y, test_size=0.70, random_state=42)"
   ]
  },
  {
   "cell_type": "code",
   "execution_count": 6,
   "metadata": {},
   "outputs": [],
   "source": [
    "# import the class\n",
    "from sklearn.linear_model import LogisticRegression\n",
    "\n",
    "# instantiate the model (using the default parameters)\n",
    "logreg = LogisticRegression(max_iter=5000)\n",
    "\n",
    "# fit the model with data\n",
    "logreg.fit(X_train,y_train)\n",
    "\n",
    "\n",
    "y_pred = logreg.predict(X_test)"
   ]
  },
  {
   "cell_type": "code",
   "execution_count": 7,
   "metadata": {},
   "outputs": [
    {
     "data": {
      "text/html": [
       "<div>\n",
       "<style scoped>\n",
       "    .dataframe tbody tr th:only-of-type {\n",
       "        vertical-align: middle;\n",
       "    }\n",
       "\n",
       "    .dataframe tbody tr th {\n",
       "        vertical-align: top;\n",
       "    }\n",
       "\n",
       "    .dataframe thead th {\n",
       "        text-align: right;\n",
       "    }\n",
       "</style>\n",
       "<table border=\"1\" class=\"dataframe\">\n",
       "  <thead>\n",
       "    <tr style=\"text-align: right;\">\n",
       "      <th></th>\n",
       "      <th>mintempC</th>\n",
       "      <th>cloudcover</th>\n",
       "      <th>humidity</th>\n",
       "      <th>pressure</th>\n",
       "    </tr>\n",
       "  </thead>\n",
       "  <tbody>\n",
       "    <tr>\n",
       "      <th>468</th>\n",
       "      <td>6</td>\n",
       "      <td>79</td>\n",
       "      <td>64</td>\n",
       "      <td>1010</td>\n",
       "    </tr>\n",
       "    <tr>\n",
       "      <th>148</th>\n",
       "      <td>12</td>\n",
       "      <td>2</td>\n",
       "      <td>44</td>\n",
       "      <td>1011</td>\n",
       "    </tr>\n",
       "    <tr>\n",
       "      <th>302</th>\n",
       "      <td>2</td>\n",
       "      <td>11</td>\n",
       "      <td>60</td>\n",
       "      <td>1025</td>\n",
       "    </tr>\n",
       "    <tr>\n",
       "      <th>355</th>\n",
       "      <td>-4</td>\n",
       "      <td>26</td>\n",
       "      <td>68</td>\n",
       "      <td>1029</td>\n",
       "    </tr>\n",
       "    <tr>\n",
       "      <th>515</th>\n",
       "      <td>12</td>\n",
       "      <td>38</td>\n",
       "      <td>56</td>\n",
       "      <td>1015</td>\n",
       "    </tr>\n",
       "    <tr>\n",
       "      <th>...</th>\n",
       "      <td>...</td>\n",
       "      <td>...</td>\n",
       "      <td>...</td>\n",
       "      <td>...</td>\n",
       "    </tr>\n",
       "    <tr>\n",
       "      <th>36</th>\n",
       "      <td>1</td>\n",
       "      <td>20</td>\n",
       "      <td>65</td>\n",
       "      <td>1024</td>\n",
       "    </tr>\n",
       "    <tr>\n",
       "      <th>452</th>\n",
       "      <td>4</td>\n",
       "      <td>69</td>\n",
       "      <td>64</td>\n",
       "      <td>1023</td>\n",
       "    </tr>\n",
       "    <tr>\n",
       "      <th>139</th>\n",
       "      <td>14</td>\n",
       "      <td>51</td>\n",
       "      <td>52</td>\n",
       "      <td>1011</td>\n",
       "    </tr>\n",
       "    <tr>\n",
       "      <th>253</th>\n",
       "      <td>11</td>\n",
       "      <td>5</td>\n",
       "      <td>41</td>\n",
       "      <td>1010</td>\n",
       "    </tr>\n",
       "    <tr>\n",
       "      <th>303</th>\n",
       "      <td>4</td>\n",
       "      <td>61</td>\n",
       "      <td>58</td>\n",
       "      <td>1023</td>\n",
       "    </tr>\n",
       "  </tbody>\n",
       "</table>\n",
       "<p>511 rows × 4 columns</p>\n",
       "</div>"
      ],
      "text/plain": [
       "     mintempC  cloudcover  humidity  pressure\n",
       "468         6          79        64      1010\n",
       "148        12           2        44      1011\n",
       "302         2          11        60      1025\n",
       "355        -4          26        68      1029\n",
       "515        12          38        56      1015\n",
       "..        ...         ...       ...       ...\n",
       "36          1          20        65      1024\n",
       "452         4          69        64      1023\n",
       "139        14          51        52      1011\n",
       "253        11           5        41      1010\n",
       "303         4          61        58      1023\n",
       "\n",
       "[511 rows x 4 columns]"
      ]
     },
     "execution_count": 7,
     "metadata": {},
     "output_type": "execute_result"
    }
   ],
   "source": [
    "X_test"
   ]
  },
  {
   "cell_type": "code",
   "execution_count": 8,
   "metadata": {},
   "outputs": [
    {
     "name": "stdout",
     "output_type": "stream",
     "text": [
      "Accuracy: 0.9041095890410958\n"
     ]
    }
   ],
   "source": [
    "from sklearn import metrics\n",
    "print(\"Accuracy:\",metrics.accuracy_score(y_test, y_pred))\n"
   ]
  },
  {
   "cell_type": "code",
   "execution_count": 9,
   "metadata": {},
   "outputs": [
    {
     "data": {
      "image/png": "[encoded data removed]",
      "text/plain": [
       "<Figure size 432x288 with 1 Axes>"
      ]
     },
     "metadata": {
      "needs_background": "light"
     },
     "output_type": "display_data"
    }
   ],
   "source": [
    "import matplotlib.pyplot as plt\n",
    "plt.scatter(X['humidity'],y)\n",
    "plt.show()"
   ]
  },
  {
   "cell_type": "code",
   "execution_count": 10,
   "metadata": {},
   "outputs": [
    {
     "data": {
      "text/plain": [
       "[]"
      ]
     },
     "execution_count": 10,
     "metadata": {},
     "output_type": "execute_result"
    },
    {
     "data": {
      "image/png": "[encoded data removed]",
      "text/plain": [
       "<Figure size 432x288 with 1 Axes>"
      ]
     },
     "metadata": {
      "needs_background": "light"
     },
     "output_type": "display_data"
    }
   ],
   "source": [
    "import seaborn as sns\n",
    "sns.regplot(x = \"humidity\", y = \"label\", data=rainData, logistic = True)\n",
    "plt.plot()"
   ]
  },
  {
   "cell_type": "code",
   "execution_count": 11,
   "metadata": {},
   "outputs": [
    {
     "data": {
      "text/plain": [
       "Text(0.5, 0, 'Importance')"
      ]
     },
     "execution_count": 11,
     "metadata": {},
     "output_type": "execute_result"
    },
    {
     "data": {
      "image/png": "[encoded data removed]",
      "text/plain": [
       "<Figure size 792x432 with 1 Axes>"
      ]
     },
     "metadata": {
      "needs_background": "light"
     },
     "output_type": "display_data"
    }
   ],
   "source": [
    "from matplotlib import pyplot as plt\n",
    "coeff = list(logreg.coef_[0])\n",
    "labels = list(X_train.columns)\n",
    "features = pd.DataFrame()\n",
    "features['Features'] = labels\n",
    "features['importance'] = coeff\n",
    "features.sort_values(by=['importance'], ascending=True, inplace=True)\n",
    "features['positive'] = features['importance'] > 0\n",
    "features.set_index('Features', inplace=True)\n",
    "features.importance.plot(kind='barh', figsize=(11, 6),color = features.positive.map({True: 'blue', False: 'red'}))\n",
    "plt.xlabel('Importance')"
   ]
  },
  {
   "cell_type": "markdown",
   "metadata": {},
   "source": [
    "frequency = 24\n",
    "start_date = '1-JAN-2018'\n",
    "end_date = '31-DEC-2018'\n",
    "api_key = 'efbb9bbcd1e4494ea8600432201809'\n",
    "location_list = ['83706']\n",
    "hist_weather_data = retrieve_hist_data(api_key,\n",
    "                                location_list,\n",
    "                                start_date,\n",
    "                                end_date,\n",
    "                                frequency,\n",
    "                                location_label = False,\n",
    "                                export_csv = True,\n",
    "                                store_df = True)\n",
    "                                \n",
    "#Code I used for the API request, I installed a module called retrieve_hist_data that searches an api called world weather online "
   ]
  }
 ],
 "metadata": {
  "kernelspec": {
   "display_name": "Python 3",
   "language": "python",
   "name": "python3"
  },
  "language_info": {
   "codemirror_mode": {
    "name": "ipython",
    "version": 3
   },
   "file_extension": ".py",
   "mimetype": "text/x-python",
   "name": "python",
   "nbconvert_exporter": "python",
   "pygments_lexer": "ipython3",
   "version": "3.8.5"
  }
 },
 "nbformat": 4,
 "nbformat_minor": 4
}
