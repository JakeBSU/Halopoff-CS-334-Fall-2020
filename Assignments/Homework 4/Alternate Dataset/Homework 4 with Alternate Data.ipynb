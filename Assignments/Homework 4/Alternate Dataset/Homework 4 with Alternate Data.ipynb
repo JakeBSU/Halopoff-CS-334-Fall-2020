{
 "cells": [
  {
   "cell_type": "markdown",
   "metadata": {},
   "source": [
    "#How Good is your Model?# \n",
    "\n",
    "This is a version of the homework that I did with more frequent sampling of the data to see whether or not it was raining. I was a bit suprised that the results didn't change as much as I thought and the accuracy supposedly went down. I'll be asking about this next class. "
   ]
  },
  {
   "cell_type": "code",
   "execution_count": 1,
   "metadata": {
    "scrolled": true
   },
   "outputs": [
    {
     "name": "stdout",
     "output_type": "stream",
     "text": [
      "['boise.csv']\n"
     ]
    }
   ],
   "source": [
    "import numpy as np\n",
    "import pandas as pd\n",
    "import matplotlib.pyplot as plt\n",
    "from sklearn.datasets import make_classification\n",
    "import seaborn as sns\n",
    "import requests\n",
    "#from wwo_hist import retrieve_hist_data\n",
    "\n",
    "import os\n",
    "print(os.listdir(\"C:/input\"))\n",
    "os.chdir(\"C:/input\")\n"
   ]
  },
  {
   "cell_type": "code",
   "execution_count": 2,
   "metadata": {
    "scrolled": true
   },
   "outputs": [
    {
     "data": {
      "text/html": [
       "<div>\n",
       "<style scoped>\n",
       "    .dataframe tbody tr th:only-of-type {\n",
       "        vertical-align: middle;\n",
       "    }\n",
       "\n",
       "    .dataframe tbody tr th {\n",
       "        vertical-align: top;\n",
       "    }\n",
       "\n",
       "    .dataframe thead th {\n",
       "        text-align: right;\n",
       "    }\n",
       "</style>\n",
       "<table border=\"1\" class=\"dataframe\">\n",
       "  <thead>\n",
       "    <tr style=\"text-align: right;\">\n",
       "      <th></th>\n",
       "      <th>date_time</th>\n",
       "      <th>maxtempC</th>\n",
       "      <th>mintempC</th>\n",
       "      <th>totalSnow_cm</th>\n",
       "      <th>sunHour</th>\n",
       "      <th>uvIndex</th>\n",
       "      <th>moon_illumination</th>\n",
       "      <th>moonrise</th>\n",
       "      <th>moonset</th>\n",
       "      <th>sunrise</th>\n",
       "      <th>...</th>\n",
       "      <th>HeatIndexC</th>\n",
       "      <th>WindChillC</th>\n",
       "      <th>WindGustKmph</th>\n",
       "      <th>cloudcover</th>\n",
       "      <th>humidity</th>\n",
       "      <th>precipMM</th>\n",
       "      <th>pressure</th>\n",
       "      <th>tempC</th>\n",
       "      <th>visibility</th>\n",
       "      <th>label</th>\n",
       "    </tr>\n",
       "  </thead>\n",
       "  <tbody>\n",
       "    <tr>\n",
       "      <th>207</th>\n",
       "      <td>1/26/19 21:00</td>\n",
       "      <td>30</td>\n",
       "      <td>17</td>\n",
       "      <td>0</td>\n",
       "      <td>11.1</td>\n",
       "      <td>7</td>\n",
       "      <td>59</td>\n",
       "      <td>No moonrise</td>\n",
       "      <td>11:45 AM</td>\n",
       "      <td>7:23 AM</td>\n",
       "      <td>...</td>\n",
       "      <td>27</td>\n",
       "      <td>24</td>\n",
       "      <td>10</td>\n",
       "      <td>32</td>\n",
       "      <td>79</td>\n",
       "      <td>0.0</td>\n",
       "      <td>1016</td>\n",
       "      <td>24</td>\n",
       "      <td>10</td>\n",
       "      <td>0</td>\n",
       "    </tr>\n",
       "    <tr>\n",
       "      <th>2881</th>\n",
       "      <td>12/27/19 3:00</td>\n",
       "      <td>25</td>\n",
       "      <td>19</td>\n",
       "      <td>0</td>\n",
       "      <td>11.0</td>\n",
       "      <td>5</td>\n",
       "      <td>0</td>\n",
       "      <td>8:30 AM</td>\n",
       "      <td>7:48 PM</td>\n",
       "      <td>7:18 AM</td>\n",
       "      <td>...</td>\n",
       "      <td>20</td>\n",
       "      <td>20</td>\n",
       "      <td>6</td>\n",
       "      <td>42</td>\n",
       "      <td>95</td>\n",
       "      <td>0.0</td>\n",
       "      <td>1013</td>\n",
       "      <td>20</td>\n",
       "      <td>2</td>\n",
       "      <td>0</td>\n",
       "    </tr>\n",
       "    <tr>\n",
       "      <th>2188</th>\n",
       "      <td>10/1/19 12:00</td>\n",
       "      <td>29</td>\n",
       "      <td>20</td>\n",
       "      <td>0</td>\n",
       "      <td>10.2</td>\n",
       "      <td>7</td>\n",
       "      <td>12</td>\n",
       "      <td>9:28 AM</td>\n",
       "      <td>9:14 PM</td>\n",
       "      <td>6:38 AM</td>\n",
       "      <td>...</td>\n",
       "      <td>32</td>\n",
       "      <td>29</td>\n",
       "      <td>5</td>\n",
       "      <td>22</td>\n",
       "      <td>63</td>\n",
       "      <td>0.0</td>\n",
       "      <td>1010</td>\n",
       "      <td>29</td>\n",
       "      <td>10</td>\n",
       "      <td>0</td>\n",
       "    </tr>\n",
       "    <tr>\n",
       "      <th>1817</th>\n",
       "      <td>8/16/19 3:00</td>\n",
       "      <td>31</td>\n",
       "      <td>21</td>\n",
       "      <td>0</td>\n",
       "      <td>9.0</td>\n",
       "      <td>6</td>\n",
       "      <td>100</td>\n",
       "      <td>8:16 PM</td>\n",
       "      <td>7:18 AM</td>\n",
       "      <td>6:29 AM</td>\n",
       "      <td>...</td>\n",
       "      <td>26</td>\n",
       "      <td>23</td>\n",
       "      <td>4</td>\n",
       "      <td>30</td>\n",
       "      <td>85</td>\n",
       "      <td>0.0</td>\n",
       "      <td>1017</td>\n",
       "      <td>23</td>\n",
       "      <td>10</td>\n",
       "      <td>0</td>\n",
       "    </tr>\n",
       "    <tr>\n",
       "      <th>2268</th>\n",
       "      <td>10/11/19 12:00</td>\n",
       "      <td>30</td>\n",
       "      <td>20</td>\n",
       "      <td>0</td>\n",
       "      <td>8.8</td>\n",
       "      <td>6</td>\n",
       "      <td>85</td>\n",
       "      <td>5:30 PM</td>\n",
       "      <td>4:48 AM</td>\n",
       "      <td>6:40 AM</td>\n",
       "      <td>...</td>\n",
       "      <td>31</td>\n",
       "      <td>29</td>\n",
       "      <td>6</td>\n",
       "      <td>7</td>\n",
       "      <td>59</td>\n",
       "      <td>0.0</td>\n",
       "      <td>1011</td>\n",
       "      <td>29</td>\n",
       "      <td>10</td>\n",
       "      <td>0</td>\n",
       "    </tr>\n",
       "  </tbody>\n",
       "</table>\n",
       "<p>5 rows × 23 columns</p>\n",
       "</div>"
      ],
      "text/plain": [
       "           date_time  maxtempC  mintempC  totalSnow_cm  sunHour  uvIndex  \\\n",
       "207    1/26/19 21:00        30        17             0     11.1        7   \n",
       "2881   12/27/19 3:00        25        19             0     11.0        5   \n",
       "2188   10/1/19 12:00        29        20             0     10.2        7   \n",
       "1817    8/16/19 3:00        31        21             0      9.0        6   \n",
       "2268  10/11/19 12:00        30        20             0      8.8        6   \n",
       "\n",
       "      moon_illumination     moonrise   moonset  sunrise  ... HeatIndexC  \\\n",
       "207                  59  No moonrise  11:45 AM  7:23 AM  ...         27   \n",
       "2881                  0      8:30 AM   7:48 PM  7:18 AM  ...         20   \n",
       "2188                 12      9:28 AM   9:14 PM  6:38 AM  ...         32   \n",
       "1817                100      8:16 PM   7:18 AM  6:29 AM  ...         26   \n",
       "2268                 85      5:30 PM   4:48 AM  6:40 AM  ...         31   \n",
       "\n",
       "      WindChillC  WindGustKmph  cloudcover  humidity  precipMM  pressure  \\\n",
       "207           24            10          32        79       0.0      1016   \n",
       "2881          20             6          42        95       0.0      1013   \n",
       "2188          29             5          22        63       0.0      1010   \n",
       "1817          23             4          30        85       0.0      1017   \n",
       "2268          29             6           7        59       0.0      1011   \n",
       "\n",
       "      tempC  visibility  label  \n",
       "207      24          10      0  \n",
       "2881     20           2      0  \n",
       "2188     29          10      0  \n",
       "1817     23          10      0  \n",
       "2268     29          10      0  \n",
       "\n",
       "[5 rows x 23 columns]"
      ]
     },
     "execution_count": 2,
     "metadata": {},
     "output_type": "execute_result"
    }
   ],
   "source": [
    "#direct filepath to .csv will have to be edited to wherever .csv is on disk\n",
    "rainData = pd.read_csv('C:/input/boise.csv')\n",
    "rainData.sample(5)"
   ]
  },
  {
   "cell_type": "code",
   "execution_count": 3,
   "metadata": {},
   "outputs": [
    {
     "data": {
      "image/png": "[encoded data removed]",
      "text/plain": [
       "<Figure size 432x288 with 1 Axes>"
      ]
     },
     "metadata": {
      "needs_background": "light"
     },
     "output_type": "display_data"
    }
   ],
   "source": [
    "ax = sns.countplot(x=\"label\", data=rainData)\n",
    "#counted anything over 0mm precipitation as rain\n",
    "#also only took a sample of the weather once every 24 hours\n",
    "#I believe this biases the data towards it usually raining, so my dataset could\n",
    "#definitely be improved "
   ]
  },
  {
   "cell_type": "code",
   "execution_count": 4,
   "metadata": {},
   "outputs": [],
   "source": [
    "feature_cols = ['maxtempC', 'mintempC', 'cloudcover', 'humidity','pressure','tempC','visibility']\n",
    "X = rainData[feature_cols] # Features\n",
    "y = rainData.label # Target variable"
   ]
  },
  {
   "cell_type": "code",
   "execution_count": 5,
   "metadata": {},
   "outputs": [],
   "source": [
    "from sklearn.model_selection import train_test_split\n",
    "X_train,X_test,y_train,y_test=train_test_split(X, y, test_size=0.25, random_state=25)"
   ]
  },
  {
   "cell_type": "code",
   "execution_count": 6,
   "metadata": {},
   "outputs": [],
   "source": [
    "# import the class\n",
    "from sklearn.linear_model import LogisticRegression\n",
    "\n",
    "# instantiate the model (using the default parameters)\n",
    "logreg = LogisticRegression(max_iter=5000)\n",
    "\n",
    "# fit the model with data\n",
    "logreg.fit(X_train,y_train)\n",
    "\n",
    "\n",
    "y_pred = logreg.predict(X_test)"
   ]
  },
  {
   "cell_type": "code",
   "execution_count": 7,
   "metadata": {},
   "outputs": [
    {
     "data": {
      "text/html": [
       "<div>\n",
       "<style scoped>\n",
       "    .dataframe tbody tr th:only-of-type {\n",
       "        vertical-align: middle;\n",
       "    }\n",
       "\n",
       "    .dataframe tbody tr th {\n",
       "        vertical-align: top;\n",
       "    }\n",
       "\n",
       "    .dataframe thead th {\n",
       "        text-align: right;\n",
       "    }\n",
       "</style>\n",
       "<table border=\"1\" class=\"dataframe\">\n",
       "  <thead>\n",
       "    <tr style=\"text-align: right;\">\n",
       "      <th></th>\n",
       "      <th>maxtempC</th>\n",
       "      <th>mintempC</th>\n",
       "      <th>cloudcover</th>\n",
       "      <th>humidity</th>\n",
       "      <th>pressure</th>\n",
       "      <th>tempC</th>\n",
       "      <th>visibility</th>\n",
       "    </tr>\n",
       "  </thead>\n",
       "  <tbody>\n",
       "    <tr>\n",
       "      <th>1542</th>\n",
       "      <td>30</td>\n",
       "      <td>21</td>\n",
       "      <td>17</td>\n",
       "      <td>68</td>\n",
       "      <td>1014</td>\n",
       "      <td>25</td>\n",
       "      <td>10</td>\n",
       "    </tr>\n",
       "    <tr>\n",
       "      <th>700</th>\n",
       "      <td>29</td>\n",
       "      <td>19</td>\n",
       "      <td>74</td>\n",
       "      <td>46</td>\n",
       "      <td>1015</td>\n",
       "      <td>29</td>\n",
       "      <td>19</td>\n",
       "    </tr>\n",
       "    <tr>\n",
       "      <th>987</th>\n",
       "      <td>34</td>\n",
       "      <td>21</td>\n",
       "      <td>10</td>\n",
       "      <td>56</td>\n",
       "      <td>1017</td>\n",
       "      <td>28</td>\n",
       "      <td>10</td>\n",
       "    </tr>\n",
       "    <tr>\n",
       "      <th>577</th>\n",
       "      <td>32</td>\n",
       "      <td>19</td>\n",
       "      <td>20</td>\n",
       "      <td>87</td>\n",
       "      <td>1016</td>\n",
       "      <td>19</td>\n",
       "      <td>10</td>\n",
       "    </tr>\n",
       "    <tr>\n",
       "      <th>2043</th>\n",
       "      <td>31</td>\n",
       "      <td>22</td>\n",
       "      <td>6</td>\n",
       "      <td>73</td>\n",
       "      <td>1014</td>\n",
       "      <td>29</td>\n",
       "      <td>10</td>\n",
       "    </tr>\n",
       "    <tr>\n",
       "      <th>...</th>\n",
       "      <td>...</td>\n",
       "      <td>...</td>\n",
       "      <td>...</td>\n",
       "      <td>...</td>\n",
       "      <td>...</td>\n",
       "      <td>...</td>\n",
       "      <td>...</td>\n",
       "    </tr>\n",
       "    <tr>\n",
       "      <th>2048</th>\n",
       "      <td>31</td>\n",
       "      <td>22</td>\n",
       "      <td>78</td>\n",
       "      <td>92</td>\n",
       "      <td>1014</td>\n",
       "      <td>23</td>\n",
       "      <td>10</td>\n",
       "    </tr>\n",
       "    <tr>\n",
       "      <th>1633</th>\n",
       "      <td>31</td>\n",
       "      <td>22</td>\n",
       "      <td>27</td>\n",
       "      <td>88</td>\n",
       "      <td>1016</td>\n",
       "      <td>23</td>\n",
       "      <td>10</td>\n",
       "    </tr>\n",
       "    <tr>\n",
       "      <th>1576</th>\n",
       "      <td>31</td>\n",
       "      <td>21</td>\n",
       "      <td>81</td>\n",
       "      <td>89</td>\n",
       "      <td>1017</td>\n",
       "      <td>23</td>\n",
       "      <td>10</td>\n",
       "    </tr>\n",
       "    <tr>\n",
       "      <th>1484</th>\n",
       "      <td>31</td>\n",
       "      <td>22</td>\n",
       "      <td>12</td>\n",
       "      <td>48</td>\n",
       "      <td>1018</td>\n",
       "      <td>31</td>\n",
       "      <td>10</td>\n",
       "    </tr>\n",
       "    <tr>\n",
       "      <th>2326</th>\n",
       "      <td>28</td>\n",
       "      <td>21</td>\n",
       "      <td>52</td>\n",
       "      <td>81</td>\n",
       "      <td>1013</td>\n",
       "      <td>26</td>\n",
       "      <td>10</td>\n",
       "    </tr>\n",
       "  </tbody>\n",
       "</table>\n",
       "<p>730 rows × 7 columns</p>\n",
       "</div>"
      ],
      "text/plain": [
       "      maxtempC  mintempC  cloudcover  humidity  pressure  tempC  visibility\n",
       "1542        30        21          17        68      1014     25          10\n",
       "700         29        19          74        46      1015     29          19\n",
       "987         34        21          10        56      1017     28          10\n",
       "577         32        19          20        87      1016     19          10\n",
       "2043        31        22           6        73      1014     29          10\n",
       "...        ...       ...         ...       ...       ...    ...         ...\n",
       "2048        31        22          78        92      1014     23          10\n",
       "1633        31        22          27        88      1016     23          10\n",
       "1576        31        21          81        89      1017     23          10\n",
       "1484        31        22          12        48      1018     31          10\n",
       "2326        28        21          52        81      1013     26          10\n",
       "\n",
       "[730 rows x 7 columns]"
      ]
     },
     "execution_count": 7,
     "metadata": {},
     "output_type": "execute_result"
    }
   ],
   "source": [
    "X_test"
   ]
  },
  {
   "cell_type": "code",
   "execution_count": 8,
   "metadata": {},
   "outputs": [
    {
     "name": "stdout",
     "output_type": "stream",
     "text": [
      "Accuracy: 0.9232876712328767\n"
     ]
    }
   ],
   "source": [
    "from sklearn import metrics\n",
    "print(\"Accuracy:\",metrics.accuracy_score(y_test, y_pred))\n",
    "#This accuracy seems artificially high "
   ]
  },
  {
   "cell_type": "code",
   "execution_count": 9,
   "metadata": {},
   "outputs": [
    {
     "data": {
      "image/png": "[encoded data removed]",
      "text/plain": [
       "<Figure size 432x288 with 1 Axes>"
      ]
     },
     "metadata": {
      "needs_background": "light"
     },
     "output_type": "display_data"
    }
   ],
   "source": [
    "import matplotlib.pyplot as plt\n",
    "plt.scatter(X['mintempC'],y)\n",
    "plt.show()"
   ]
  },
  {
   "cell_type": "code",
   "execution_count": 10,
   "metadata": {},
   "outputs": [
    {
     "data": {
      "text/plain": [
       "[]"
      ]
     },
     "execution_count": 10,
     "metadata": {},
     "output_type": "execute_result"
    },
    {
     "data": {
      "image/png": "[encoded data removed]",
      "text/plain": [
       "<Figure size 432x288 with 1 Axes>"
      ]
     },
     "metadata": {
      "needs_background": "light"
     },
     "output_type": "display_data"
    }
   ],
   "source": [
    "import seaborn as sns\n",
    "sns.regplot(x = \"mintempC\", y = \"label\", data=rainData, logistic = True)\n",
    "plt.plot()"
   ]
  },
  {
   "cell_type": "code",
   "execution_count": 11,
   "metadata": {},
   "outputs": [
    {
     "data": {
      "text/plain": [
       "Text(0.5, 0, 'Importance')"
      ]
     },
     "execution_count": 11,
     "metadata": {},
     "output_type": "execute_result"
    },
    {
     "data": {
      "image/png": "[encoded data removed]",
      "text/plain": [
       "<Figure size 792x432 with 1 Axes>"
      ]
     },
     "metadata": {
      "needs_background": "light"
     },
     "output_type": "display_data"
    }
   ],
   "source": [
    "from matplotlib import pyplot as plt\n",
    "coeff = list(logreg.coef_[0])\n",
    "labels = list(X_train.columns)\n",
    "features = pd.DataFrame()\n",
    "features['Features'] = labels\n",
    "features['importance'] = coeff\n",
    "features.sort_values(by=['importance'], ascending=True, inplace=True)\n",
    "features['positive'] = features['importance'] > 0\n",
    "features.set_index('Features', inplace=True)\n",
    "features.importance.plot(kind='barh', figsize=(11, 6),color = features.positive.map({True: 'blue', False: 'red'}))\n",
    "plt.xlabel('Importance')"
   ]
  },
  {
   "cell_type": "markdown",
   "metadata": {},
   "source": [
    "frequency = 24\n",
    "start_date = '1-JAN-2019'\n",
    "end_date = '31-DEC-2019'\n",
    "api_key = 'efbb9bbcd1e4494ea8600432201809'\n",
    "location_list = ['boise']\n",
    "hist_weather_data = retrieve_hist_data(api_key,\n",
    "                                location_list,\n",
    "                                start_date,\n",
    "                                end_date,\n",
    "                                frequency,\n",
    "                                location_label = False,\n",
    "                                export_csv = True,\n",
    "                                store_df = True)\n",
    "                                \n",
    "#Code I used for the API request, I installed a module called retrieve_hist_data that searches an api called world weather online "
   ]
  },
  {
   "cell_type": "markdown",
   "metadata": {},
   "source": [
    "#How Good is your Model?# \n",
    "\n",
    "This is a version of the homework that I did with more frequent sampling of the data to see whether or not it was raining. I was a bit suprised that the results didn't change as much as I thought and the accuracy supposedly went down. "
   ]
  }
 ],
 "metadata": {
  "kernelspec": {
   "display_name": "Python 3",
   "language": "python",
   "name": "python3"
  },
  "language_info": {
   "codemirror_mode": {
    "name": "ipython",
    "version": 3
   },
   "file_extension": ".py",
   "mimetype": "text/x-python",
   "name": "python",
   "nbconvert_exporter": "python",
   "pygments_lexer": "ipython3",
   "version": "3.8.5"
  }
 },
 "nbformat": 4,
 "nbformat_minor": 4
}
