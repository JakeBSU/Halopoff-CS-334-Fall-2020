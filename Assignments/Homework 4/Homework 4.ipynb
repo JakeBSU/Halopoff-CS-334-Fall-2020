{
 "cells": [
  {
   "cell_type": "code",
   "execution_count": 1,
   "metadata": {
    "scrolled": true
   },
   "outputs": [
    {
     "name": "stdout",
     "output_type": "stream",
     "text": [
      "['boise.csv', 'boiseunedited.csv']\n"
     ]
    }
   ],
   "source": [
    "import numpy as np\n",
    "import pandas as pd\n",
    "import matplotlib.pyplot as plt\n",
    "from sklearn.datasets import make_classification\n",
    "import seaborn as sns\n",
    "import requests\n",
    "from wwo_hist import retrieve_hist_data\n",
    "\n",
    "import os\n",
    "print(os.listdir(\"C:/input\"))\n",
    "os.chdir(\"C:/input\")\n"
   ]
  },
  {
   "cell_type": "code",
   "execution_count": 2,
   "metadata": {
    "scrolled": true
   },
   "outputs": [
    {
     "data": {
      "text/html": [
       "<div>\n",
       "<style scoped>\n",
       "    .dataframe tbody tr th:only-of-type {\n",
       "        vertical-align: middle;\n",
       "    }\n",
       "\n",
       "    .dataframe tbody tr th {\n",
       "        vertical-align: top;\n",
       "    }\n",
       "\n",
       "    .dataframe thead th {\n",
       "        text-align: right;\n",
       "    }\n",
       "</style>\n",
       "<table border=\"1\" class=\"dataframe\">\n",
       "  <thead>\n",
       "    <tr style=\"text-align: right;\">\n",
       "      <th></th>\n",
       "      <th>date_time</th>\n",
       "      <th>maxtempC</th>\n",
       "      <th>mintempC</th>\n",
       "      <th>cloudcover</th>\n",
       "      <th>humidity</th>\n",
       "      <th>pressure</th>\n",
       "      <th>tempC</th>\n",
       "      <th>visibility</th>\n",
       "      <th>label</th>\n",
       "    </tr>\n",
       "  </thead>\n",
       "  <tbody>\n",
       "    <tr>\n",
       "      <th>247</th>\n",
       "      <td>9/5/2019</td>\n",
       "      <td>30</td>\n",
       "      <td>23</td>\n",
       "      <td>50</td>\n",
       "      <td>80</td>\n",
       "      <td>1015</td>\n",
       "      <td>30</td>\n",
       "      <td>9</td>\n",
       "      <td>1</td>\n",
       "    </tr>\n",
       "    <tr>\n",
       "      <th>13</th>\n",
       "      <td>1/14/2019</td>\n",
       "      <td>29</td>\n",
       "      <td>17</td>\n",
       "      <td>29</td>\n",
       "      <td>77</td>\n",
       "      <td>1017</td>\n",
       "      <td>29</td>\n",
       "      <td>10</td>\n",
       "      <td>1</td>\n",
       "    </tr>\n",
       "    <tr>\n",
       "      <th>265</th>\n",
       "      <td>9/23/2019</td>\n",
       "      <td>29</td>\n",
       "      <td>21</td>\n",
       "      <td>77</td>\n",
       "      <td>85</td>\n",
       "      <td>1012</td>\n",
       "      <td>29</td>\n",
       "      <td>6</td>\n",
       "      <td>1</td>\n",
       "    </tr>\n",
       "    <tr>\n",
       "      <th>122</th>\n",
       "      <td>5/3/2019</td>\n",
       "      <td>35</td>\n",
       "      <td>21</td>\n",
       "      <td>25</td>\n",
       "      <td>66</td>\n",
       "      <td>1016</td>\n",
       "      <td>35</td>\n",
       "      <td>10</td>\n",
       "      <td>1</td>\n",
       "    </tr>\n",
       "    <tr>\n",
       "      <th>138</th>\n",
       "      <td>5/19/2019</td>\n",
       "      <td>34</td>\n",
       "      <td>19</td>\n",
       "      <td>58</td>\n",
       "      <td>65</td>\n",
       "      <td>1015</td>\n",
       "      <td>34</td>\n",
       "      <td>10</td>\n",
       "      <td>1</td>\n",
       "    </tr>\n",
       "  </tbody>\n",
       "</table>\n",
       "</div>"
      ],
      "text/plain": [
       "     date_time  maxtempC  mintempC  cloudcover  humidity  pressure  tempC  \\\n",
       "247   9/5/2019        30        23          50        80      1015     30   \n",
       "13   1/14/2019        29        17          29        77      1017     29   \n",
       "265  9/23/2019        29        21          77        85      1012     29   \n",
       "122   5/3/2019        35        21          25        66      1016     35   \n",
       "138  5/19/2019        34        19          58        65      1015     34   \n",
       "\n",
       "     visibility  label  \n",
       "247           9      1  \n",
       "13           10      1  \n",
       "265           6      1  \n",
       "122          10      1  \n",
       "138          10      1  "
      ]
     },
     "execution_count": 2,
     "metadata": {},
     "output_type": "execute_result"
    }
   ],
   "source": [
    "#direct filepath to .csv will have to be edited to wherever .csv is on disk\n",
    "rainData = pd.read_csv('C:/input/boise.csv')\n",
    "rainData.sample(5)"
   ]
  },
  {
   "cell_type": "code",
   "execution_count": 3,
   "metadata": {},
   "outputs": [
    {
     "data": {
      "image/png": "[encoded data removed]",
      "text/plain": [
       "<Figure size 432x288 with 1 Axes>"
      ]
     },
     "metadata": {
      "needs_background": "light"
     },
     "output_type": "display_data"
    }
   ],
   "source": [
    "ax = sns.countplot(x=\"label\", data=rainData)\n",
    "#counted anything over 0mm precipitation as rain\n",
    "#also only took a sample of the weather once every 24 hours\n",
    "#I believe this biases the data towards it usually raining, so my dataset could\n",
    "#definitely be improved "
   ]
  },
  {
   "cell_type": "code",
   "execution_count": 4,
   "metadata": {},
   "outputs": [],
   "source": [
    "feature_cols = ['maxtempC', 'mintempC', 'cloudcover', 'humidity','pressure','tempC','visibility']\n",
    "X = rainData[feature_cols] # Features\n",
    "y = rainData.label # Target variable"
   ]
  },
  {
   "cell_type": "code",
   "execution_count": 5,
   "metadata": {},
   "outputs": [],
   "source": [
    "from sklearn.model_selection import train_test_split\n",
    "X_train,X_test,y_train,y_test=train_test_split(X, y, test_size=0.25, random_state=25)"
   ]
  },
  {
   "cell_type": "code",
   "execution_count": 6,
   "metadata": {},
   "outputs": [],
   "source": [
    "# import the class\n",
    "from sklearn.linear_model import LogisticRegression\n",
    "\n",
    "# instantiate the model (using the default parameters)\n",
    "logreg = LogisticRegression(max_iter=5000)\n",
    "\n",
    "# fit the model with data\n",
    "logreg.fit(X_train,y_train)\n",
    "\n",
    "\n",
    "y_pred = logreg.predict(X_test)"
   ]
  },
  {
   "cell_type": "code",
   "execution_count": 7,
   "metadata": {},
   "outputs": [
    {
     "data": {
      "text/html": [
       "<div>\n",
       "<style scoped>\n",
       "    .dataframe tbody tr th:only-of-type {\n",
       "        vertical-align: middle;\n",
       "    }\n",
       "\n",
       "    .dataframe tbody tr th {\n",
       "        vertical-align: top;\n",
       "    }\n",
       "\n",
       "    .dataframe thead th {\n",
       "        text-align: right;\n",
       "    }\n",
       "</style>\n",
       "<table border=\"1\" class=\"dataframe\">\n",
       "  <thead>\n",
       "    <tr style=\"text-align: right;\">\n",
       "      <th></th>\n",
       "      <th>maxtempC</th>\n",
       "      <th>mintempC</th>\n",
       "      <th>cloudcover</th>\n",
       "      <th>humidity</th>\n",
       "      <th>pressure</th>\n",
       "      <th>tempC</th>\n",
       "      <th>visibility</th>\n",
       "    </tr>\n",
       "  </thead>\n",
       "  <tbody>\n",
       "    <tr>\n",
       "      <th>364</th>\n",
       "      <td>27</td>\n",
       "      <td>19</td>\n",
       "      <td>73</td>\n",
       "      <td>85</td>\n",
       "      <td>1015</td>\n",
       "      <td>27</td>\n",
       "      <td>8</td>\n",
       "    </tr>\n",
       "    <tr>\n",
       "      <th>225</th>\n",
       "      <td>31</td>\n",
       "      <td>22</td>\n",
       "      <td>45</td>\n",
       "      <td>77</td>\n",
       "      <td>1016</td>\n",
       "      <td>31</td>\n",
       "      <td>9</td>\n",
       "    </tr>\n",
       "    <tr>\n",
       "      <th>33</th>\n",
       "      <td>31</td>\n",
       "      <td>17</td>\n",
       "      <td>24</td>\n",
       "      <td>72</td>\n",
       "      <td>1015</td>\n",
       "      <td>31</td>\n",
       "      <td>10</td>\n",
       "    </tr>\n",
       "    <tr>\n",
       "      <th>100</th>\n",
       "      <td>34</td>\n",
       "      <td>21</td>\n",
       "      <td>41</td>\n",
       "      <td>60</td>\n",
       "      <td>1014</td>\n",
       "      <td>34</td>\n",
       "      <td>10</td>\n",
       "    </tr>\n",
       "    <tr>\n",
       "      <th>45</th>\n",
       "      <td>28</td>\n",
       "      <td>22</td>\n",
       "      <td>43</td>\n",
       "      <td>74</td>\n",
       "      <td>1016</td>\n",
       "      <td>28</td>\n",
       "      <td>12</td>\n",
       "    </tr>\n",
       "    <tr>\n",
       "      <th>...</th>\n",
       "      <td>...</td>\n",
       "      <td>...</td>\n",
       "      <td>...</td>\n",
       "      <td>...</td>\n",
       "      <td>...</td>\n",
       "      <td>...</td>\n",
       "      <td>...</td>\n",
       "    </tr>\n",
       "    <tr>\n",
       "      <th>188</th>\n",
       "      <td>32</td>\n",
       "      <td>22</td>\n",
       "      <td>59</td>\n",
       "      <td>78</td>\n",
       "      <td>1016</td>\n",
       "      <td>32</td>\n",
       "      <td>9</td>\n",
       "    </tr>\n",
       "    <tr>\n",
       "      <th>19</th>\n",
       "      <td>31</td>\n",
       "      <td>16</td>\n",
       "      <td>24</td>\n",
       "      <td>73</td>\n",
       "      <td>1017</td>\n",
       "      <td>31</td>\n",
       "      <td>10</td>\n",
       "    </tr>\n",
       "    <tr>\n",
       "      <th>43</th>\n",
       "      <td>31</td>\n",
       "      <td>18</td>\n",
       "      <td>15</td>\n",
       "      <td>66</td>\n",
       "      <td>1016</td>\n",
       "      <td>31</td>\n",
       "      <td>13</td>\n",
       "    </tr>\n",
       "    <tr>\n",
       "      <th>283</th>\n",
       "      <td>30</td>\n",
       "      <td>20</td>\n",
       "      <td>41</td>\n",
       "      <td>81</td>\n",
       "      <td>1012</td>\n",
       "      <td>30</td>\n",
       "      <td>9</td>\n",
       "    </tr>\n",
       "    <tr>\n",
       "      <th>361</th>\n",
       "      <td>28</td>\n",
       "      <td>19</td>\n",
       "      <td>12</td>\n",
       "      <td>79</td>\n",
       "      <td>1015</td>\n",
       "      <td>28</td>\n",
       "      <td>9</td>\n",
       "    </tr>\n",
       "  </tbody>\n",
       "</table>\n",
       "<p>92 rows × 7 columns</p>\n",
       "</div>"
      ],
      "text/plain": [
       "     maxtempC  mintempC  cloudcover  humidity  pressure  tempC  visibility\n",
       "364        27        19          73        85      1015     27           8\n",
       "225        31        22          45        77      1016     31           9\n",
       "33         31        17          24        72      1015     31          10\n",
       "100        34        21          41        60      1014     34          10\n",
       "45         28        22          43        74      1016     28          12\n",
       "..        ...       ...         ...       ...       ...    ...         ...\n",
       "188        32        22          59        78      1016     32           9\n",
       "19         31        16          24        73      1017     31          10\n",
       "43         31        18          15        66      1016     31          13\n",
       "283        30        20          41        81      1012     30           9\n",
       "361        28        19          12        79      1015     28           9\n",
       "\n",
       "[92 rows x 7 columns]"
      ]
     },
     "execution_count": 7,
     "metadata": {},
     "output_type": "execute_result"
    }
   ],
   "source": [
    "X_test"
   ]
  },
  {
   "cell_type": "code",
   "execution_count": 8,
   "metadata": {},
   "outputs": [
    {
     "name": "stdout",
     "output_type": "stream",
     "text": [
      "Accuracy: 0.9456521739130435\n"
     ]
    }
   ],
   "source": [
    "from sklearn import metrics\n",
    "print(\"Accuracy:\",metrics.accuracy_score(y_test, y_pred))\n",
    "#This accuracy seems artificially high "
   ]
  },
  {
   "cell_type": "code",
   "execution_count": 9,
   "metadata": {},
   "outputs": [
    {
     "data": {
      "image/png": "[encoded data removed]",
      "text/plain": [
       "<Figure size 432x288 with 1 Axes>"
      ]
     },
     "metadata": {
      "needs_background": "light"
     },
     "output_type": "display_data"
    }
   ],
   "source": [
    "import matplotlib.pyplot as plt\n",
    "plt.scatter(X['mintempC'],y)\n",
    "plt.show()"
   ]
  },
  {
   "cell_type": "code",
   "execution_count": 10,
   "metadata": {},
   "outputs": [
    {
     "data": {
      "text/plain": [
       "[]"
      ]
     },
     "execution_count": 10,
     "metadata": {},
     "output_type": "execute_result"
    },
    {
     "data": {
      "image/png": "[encoded data removed]",
      "text/plain": [
       "<Figure size 432x288 with 1 Axes>"
      ]
     },
     "metadata": {
      "needs_background": "light"
     },
     "output_type": "display_data"
    }
   ],
   "source": [
    "import seaborn as sns\n",
    "sns.regplot(x = \"mintempC\", y = \"label\", data=rainData, logistic = True)\n",
    "plt.plot()"
   ]
  },
  {
   "cell_type": "code",
   "execution_count": 11,
   "metadata": {},
   "outputs": [
    {
     "data": {
      "text/plain": [
       "Text(0.5, 0, 'Importance')"
      ]
     },
     "execution_count": 11,
     "metadata": {},
     "output_type": "execute_result"
    },
    {
     "data": {
      "image/png": "[encoded data removed]",
      "text/plain": [
       "<Figure size 792x432 with 1 Axes>"
      ]
     },
     "metadata": {
      "needs_background": "light"
     },
     "output_type": "display_data"
    }
   ],
   "source": [
    "from matplotlib import pyplot as plt\n",
    "coeff = list(logreg.coef_[0])\n",
    "labels = list(X_train.columns)\n",
    "features = pd.DataFrame()\n",
    "features['Features'] = labels\n",
    "features['importance'] = coeff\n",
    "features.sort_values(by=['importance'], ascending=True, inplace=True)\n",
    "features['positive'] = features['importance'] > 0\n",
    "features.set_index('Features', inplace=True)\n",
    "features.importance.plot(kind='barh', figsize=(11, 6),color = features.positive.map({True: 'blue', False: 'red'}))\n",
    "plt.xlabel('Importance')"
   ]
  },
  {
   "cell_type": "code",
   "execution_count": 13,
   "metadata": {},
   "outputs": [
    {
     "name": "stdout",
     "output_type": "stream",
     "text": [
      "\n",
      "\n",
      "Retrieving weather data for boise\n",
      "\n",
      "\n",
      "Currently retrieving data for boise: from 2019-01-01 to 2019-01-31\n",
      "Time elapsed (hh:mm:ss.ms) 0:00:01.181442\n",
      "Currently retrieving data for boise: from 2019-02-01 to 2019-02-28\n",
      "Time elapsed (hh:mm:ss.ms) 0:00:02.336689\n",
      "Currently retrieving data for boise: from 2019-03-01 to 2019-03-31\n",
      "Time elapsed (hh:mm:ss.ms) 0:00:03.484035\n",
      "Currently retrieving data for boise: from 2019-04-01 to 2019-04-30\n",
      "Time elapsed (hh:mm:ss.ms) 0:00:04.488610\n",
      "Currently retrieving data for boise: from 2019-05-01 to 2019-05-31\n",
      "Time elapsed (hh:mm:ss.ms) 0:00:05.613699\n",
      "Currently retrieving data for boise: from 2019-06-01 to 2019-06-30\n",
      "Time elapsed (hh:mm:ss.ms) 0:00:06.609370\n",
      "Currently retrieving data for boise: from 2019-07-01 to 2019-07-31\n",
      "Time elapsed (hh:mm:ss.ms) 0:00:07.744526\n",
      "Currently retrieving data for boise: from 2019-08-01 to 2019-08-31\n",
      "Time elapsed (hh:mm:ss.ms) 0:00:08.879251\n",
      "Currently retrieving data for boise: from 2019-09-01 to 2019-09-30\n",
      "Time elapsed (hh:mm:ss.ms) 0:00:09.874814\n",
      "Currently retrieving data for boise: from 2019-10-01 to 2019-10-31\n",
      "Time elapsed (hh:mm:ss.ms) 0:00:10.865377\n",
      "Currently retrieving data for boise: from 2019-11-01 to 2019-11-30\n",
      "Time elapsed (hh:mm:ss.ms) 0:00:11.860569\n",
      "Currently retrieving data for boise: from 2019-12-01 to 2019-12-31\n",
      "Time elapsed (hh:mm:ss.ms) 0:00:12.903284\n",
      "\n",
      "\n",
      "export boise completed!\n",
      "\n",
      "\n"
     ]
    }
   ],
   "source": [
    "frequency = 24\n",
    "start_date = '1-JAN-2019'\n",
    "end_date = '31-DEC-2019'\n",
    "api_key = 'efbb9bbcd1e4494ea8600432201809'\n",
    "location_list = ['boise']\n",
    "hist_weather_data = retrieve_hist_data(api_key,\n",
    "                                location_list,\n",
    "                                start_date,\n",
    "                                end_date,\n",
    "                                frequency,\n",
    "                                location_label = False,\n",
    "                                export_csv = True,\n",
    "                                store_df = True)\n",
    "                                \n",
    "#Code I used for the API request, I installed a module called retrieve_hist_data that searches an api called world weather online "
   ]
  },
  {
   "cell_type": "markdown",
   "metadata": {},
   "source": [
    "#How Good is your Model?# \n",
    "\n",
    "Despite having a high accuracy, I think this model is biased and inaccurate based on random chance. I tried doing another test with higher frequency of polling (every 3 hours) and there were a lot more points where it was not raining. Therefore, I think a model that uses more frequent samples will come to realize that it is usually not raining in Boise. However, I think this model is an accurate measure of the question \"Is it going to rain today?\". Boise is a large area, and the chance of a few minutes of rain in the early morning is rather high. In the winter months, I am not sure if precipitation is also measuring snow, so this model could also be skewed by snowfall misinterpreted as rain. \n",
    "\n",
    "I've included the .csv files so you can take a look at the data and see what I mean. "
   ]
  }
 ],
 "metadata": {
  "kernelspec": {
   "display_name": "Python 3",
   "language": "python",
   "name": "python3"
  },
  "language_info": {
   "codemirror_mode": {
    "name": "ipython",
    "version": 3
   },
   "file_extension": ".py",
   "mimetype": "text/x-python",
   "name": "python",
   "nbconvert_exporter": "python",
   "pygments_lexer": "ipython3",
   "version": "3.8.5"
  }
 },
 "nbformat": 4,
 "nbformat_minor": 4
}
